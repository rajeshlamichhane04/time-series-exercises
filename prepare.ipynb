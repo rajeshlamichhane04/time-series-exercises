{
 "cells": [
  {
   "cell_type": "markdown",
   "id": "2b372c99",
   "metadata": {},
   "source": [
    "### Exercises\n",
    "\n",
    "##### The end result of this exercise should be a file named prepare.py."
   ]
  },
  {
   "cell_type": "code",
   "execution_count": 1,
   "id": "cf5e7fbc",
   "metadata": {},
   "outputs": [],
   "source": [
    "import pandas as pd\n",
    "import numpy as np\n",
    "import matplotlib.pyplot as plt\n",
    "import seaborn as sns\n",
    "from datetime import datetime\n",
    "import prepare\n",
    "import acquire\n",
    "\n",
    "plt.rcParams['figure.figsize'] = (10,6)\n",
    "sns.set_style('darkgrid')"
   ]
  },
  {
   "cell_type": "markdown",
   "id": "751b782d",
   "metadata": {},
   "source": [
    "##### Using your store items data:\n",
    "\n"
   ]
  },
  {
   "cell_type": "code",
   "execution_count": 2,
   "id": "b9c8e5fc",
   "metadata": {},
   "outputs": [],
   "source": [
    "#pull. data locally\n",
    "df = pd.read_csv(\"all_combined.csv\", index_col= 0)"
   ]
  },
  {
   "cell_type": "code",
   "execution_count": 3,
   "id": "93ed439a",
   "metadata": {},
   "outputs": [
    {
     "data": {
      "text/html": [
       "<div>\n",
       "<style scoped>\n",
       "    .dataframe tbody tr th:only-of-type {\n",
       "        vertical-align: middle;\n",
       "    }\n",
       "\n",
       "    .dataframe tbody tr th {\n",
       "        vertical-align: top;\n",
       "    }\n",
       "\n",
       "    .dataframe thead th {\n",
       "        text-align: right;\n",
       "    }\n",
       "</style>\n",
       "<table border=\"1\" class=\"dataframe\">\n",
       "  <thead>\n",
       "    <tr style=\"text-align: right;\">\n",
       "      <th></th>\n",
       "      <th>item_id</th>\n",
       "      <th>sale_amount</th>\n",
       "      <th>sale_date</th>\n",
       "      <th>sale_id</th>\n",
       "      <th>store_id</th>\n",
       "      <th>item_brand</th>\n",
       "      <th>item_name</th>\n",
       "      <th>item_price</th>\n",
       "      <th>item_upc12</th>\n",
       "      <th>item_upc14</th>\n",
       "      <th>store_address</th>\n",
       "      <th>store_city</th>\n",
       "      <th>store_state</th>\n",
       "      <th>store_zipcode</th>\n",
       "    </tr>\n",
       "  </thead>\n",
       "  <tbody>\n",
       "    <tr>\n",
       "      <th>0</th>\n",
       "      <td>1</td>\n",
       "      <td>13.0</td>\n",
       "      <td>Tue, 01 Jan 2013 00:00:00 GMT</td>\n",
       "      <td>1</td>\n",
       "      <td>1</td>\n",
       "      <td>Riceland</td>\n",
       "      <td>Riceland American Jazmine Rice</td>\n",
       "      <td>0.84</td>\n",
       "      <td>35200264013</td>\n",
       "      <td>35200264013</td>\n",
       "      <td>12125 Alamo Ranch Pkwy</td>\n",
       "      <td>San Antonio</td>\n",
       "      <td>TX</td>\n",
       "      <td>78253</td>\n",
       "    </tr>\n",
       "    <tr>\n",
       "      <th>1</th>\n",
       "      <td>1</td>\n",
       "      <td>11.0</td>\n",
       "      <td>Wed, 02 Jan 2013 00:00:00 GMT</td>\n",
       "      <td>2</td>\n",
       "      <td>1</td>\n",
       "      <td>Riceland</td>\n",
       "      <td>Riceland American Jazmine Rice</td>\n",
       "      <td>0.84</td>\n",
       "      <td>35200264013</td>\n",
       "      <td>35200264013</td>\n",
       "      <td>12125 Alamo Ranch Pkwy</td>\n",
       "      <td>San Antonio</td>\n",
       "      <td>TX</td>\n",
       "      <td>78253</td>\n",
       "    </tr>\n",
       "    <tr>\n",
       "      <th>2</th>\n",
       "      <td>1</td>\n",
       "      <td>14.0</td>\n",
       "      <td>Thu, 03 Jan 2013 00:00:00 GMT</td>\n",
       "      <td>3</td>\n",
       "      <td>1</td>\n",
       "      <td>Riceland</td>\n",
       "      <td>Riceland American Jazmine Rice</td>\n",
       "      <td>0.84</td>\n",
       "      <td>35200264013</td>\n",
       "      <td>35200264013</td>\n",
       "      <td>12125 Alamo Ranch Pkwy</td>\n",
       "      <td>San Antonio</td>\n",
       "      <td>TX</td>\n",
       "      <td>78253</td>\n",
       "    </tr>\n",
       "    <tr>\n",
       "      <th>3</th>\n",
       "      <td>1</td>\n",
       "      <td>13.0</td>\n",
       "      <td>Fri, 04 Jan 2013 00:00:00 GMT</td>\n",
       "      <td>4</td>\n",
       "      <td>1</td>\n",
       "      <td>Riceland</td>\n",
       "      <td>Riceland American Jazmine Rice</td>\n",
       "      <td>0.84</td>\n",
       "      <td>35200264013</td>\n",
       "      <td>35200264013</td>\n",
       "      <td>12125 Alamo Ranch Pkwy</td>\n",
       "      <td>San Antonio</td>\n",
       "      <td>TX</td>\n",
       "      <td>78253</td>\n",
       "    </tr>\n",
       "    <tr>\n",
       "      <th>4</th>\n",
       "      <td>1</td>\n",
       "      <td>10.0</td>\n",
       "      <td>Sat, 05 Jan 2013 00:00:00 GMT</td>\n",
       "      <td>5</td>\n",
       "      <td>1</td>\n",
       "      <td>Riceland</td>\n",
       "      <td>Riceland American Jazmine Rice</td>\n",
       "      <td>0.84</td>\n",
       "      <td>35200264013</td>\n",
       "      <td>35200264013</td>\n",
       "      <td>12125 Alamo Ranch Pkwy</td>\n",
       "      <td>San Antonio</td>\n",
       "      <td>TX</td>\n",
       "      <td>78253</td>\n",
       "    </tr>\n",
       "  </tbody>\n",
       "</table>\n",
       "</div>"
      ],
      "text/plain": [
       "   item_id  sale_amount                      sale_date  sale_id  store_id  \\\n",
       "0        1         13.0  Tue, 01 Jan 2013 00:00:00 GMT        1         1   \n",
       "1        1         11.0  Wed, 02 Jan 2013 00:00:00 GMT        2         1   \n",
       "2        1         14.0  Thu, 03 Jan 2013 00:00:00 GMT        3         1   \n",
       "3        1         13.0  Fri, 04 Jan 2013 00:00:00 GMT        4         1   \n",
       "4        1         10.0  Sat, 05 Jan 2013 00:00:00 GMT        5         1   \n",
       "\n",
       "  item_brand                       item_name  item_price   item_upc12  \\\n",
       "0   Riceland  Riceland American Jazmine Rice        0.84  35200264013   \n",
       "1   Riceland  Riceland American Jazmine Rice        0.84  35200264013   \n",
       "2   Riceland  Riceland American Jazmine Rice        0.84  35200264013   \n",
       "3   Riceland  Riceland American Jazmine Rice        0.84  35200264013   \n",
       "4   Riceland  Riceland American Jazmine Rice        0.84  35200264013   \n",
       "\n",
       "    item_upc14           store_address   store_city store_state  store_zipcode  \n",
       "0  35200264013  12125 Alamo Ranch Pkwy  San Antonio          TX          78253  \n",
       "1  35200264013  12125 Alamo Ranch Pkwy  San Antonio          TX          78253  \n",
       "2  35200264013  12125 Alamo Ranch Pkwy  San Antonio          TX          78253  \n",
       "3  35200264013  12125 Alamo Ranch Pkwy  San Antonio          TX          78253  \n",
       "4  35200264013  12125 Alamo Ranch Pkwy  San Antonio          TX          78253  "
      ]
     },
     "execution_count": 3,
     "metadata": {},
     "output_type": "execute_result"
    }
   ],
   "source": [
    "df.head()"
   ]
  },
  {
   "cell_type": "markdown",
   "id": "e380cc9c",
   "metadata": {},
   "source": [
    "#### 1. Convert date column to datetime format.\n"
   ]
  },
  {
   "cell_type": "code",
   "execution_count": 4,
   "id": "73b9d932",
   "metadata": {},
   "outputs": [
    {
     "name": "stdout",
     "output_type": "stream",
     "text": [
      "<class 'pandas.core.frame.DataFrame'>\n",
      "Int64Index: 913000 entries, 0 to 912999\n",
      "Data columns (total 14 columns):\n",
      " #   Column         Non-Null Count   Dtype  \n",
      "---  ------         --------------   -----  \n",
      " 0   item_id        913000 non-null  int64  \n",
      " 1   sale_amount    913000 non-null  float64\n",
      " 2   sale_date      913000 non-null  object \n",
      " 3   sale_id        913000 non-null  int64  \n",
      " 4   store_id       913000 non-null  int64  \n",
      " 5   item_brand     913000 non-null  object \n",
      " 6   item_name      913000 non-null  object \n",
      " 7   item_price     913000 non-null  float64\n",
      " 8   item_upc12     913000 non-null  int64  \n",
      " 9   item_upc14     913000 non-null  int64  \n",
      " 10  store_address  913000 non-null  object \n",
      " 11  store_city     913000 non-null  object \n",
      " 12  store_state    913000 non-null  object \n",
      " 13  store_zipcode  913000 non-null  int64  \n",
      "dtypes: float64(2), int64(6), object(6)\n",
      "memory usage: 104.5+ MB\n"
     ]
    }
   ],
   "source": [
    "#check data types\n",
    "df.info()"
   ]
  },
  {
   "cell_type": "code",
   "execution_count": 5,
   "id": "88d10866",
   "metadata": {},
   "outputs": [
    {
     "data": {
      "text/plain": [
       "0    Tue, 01 Jan 2013 00:00:00 GMT\n",
       "1    Wed, 02 Jan 2013 00:00:00 GMT\n",
       "2    Thu, 03 Jan 2013 00:00:00 GMT\n",
       "3    Fri, 04 Jan 2013 00:00:00 GMT\n",
       "4    Sat, 05 Jan 2013 00:00:00 GMT\n",
       "Name: sale_date, dtype: object"
      ]
     },
     "execution_count": 5,
     "metadata": {},
     "output_type": "execute_result"
    }
   ],
   "source": [
    "df.sale_date.head()"
   ]
  },
  {
   "cell_type": "code",
   "execution_count": 6,
   "id": "7e2dd326",
   "metadata": {},
   "outputs": [
    {
     "data": {
      "text/plain": [
       "913000"
      ]
     },
     "execution_count": 6,
     "metadata": {},
     "output_type": "execute_result"
    }
   ],
   "source": [
    "#check for GMT\n",
    "df.sale_date.str.endswith(\"00:00:00 GMT\").sum()"
   ]
  },
  {
   "cell_type": "code",
   "execution_count": 10,
   "id": "7e452f51",
   "metadata": {},
   "outputs": [],
   "source": [
    "# we can get ride of GMT time as it is all same\n",
    "df.sale_date = df.sale_date.str.replace(\"00:00:00 GMT\",\"\")\n",
    "df.sale_date = df.sale_date.str.strip()"
   ]
  },
  {
   "cell_type": "code",
   "execution_count": 11,
   "id": "81f4d15f",
   "metadata": {},
   "outputs": [
    {
     "data": {
      "text/plain": [
       "115703    Tue, 28 Oct 2014\n",
       "221348    Fri, 07 Feb 2014\n",
       "525508    Sat, 17 Dec 2016\n",
       "716954    Tue, 08 Mar 2016\n",
       "524491    Thu, 06 Mar 2014\n",
       "Name: sale_date, dtype: object"
      ]
     },
     "execution_count": 11,
     "metadata": {},
     "output_type": "execute_result"
    }
   ],
   "source": [
    "df.sale_date.sample(5)"
   ]
  },
  {
   "cell_type": "code",
   "execution_count": 12,
   "id": "2254a5e7",
   "metadata": {},
   "outputs": [
    {
     "data": {
      "text/plain": [
       "0   2013-01-01\n",
       "1   2013-01-02\n",
       "2   2013-01-03\n",
       "3   2013-01-04\n",
       "4   2013-01-05\n",
       "Name: sale_date, dtype: datetime64[ns]"
      ]
     },
     "execution_count": 12,
     "metadata": {},
     "output_type": "execute_result"
    }
   ],
   "source": [
    "#now change it into datetime format\n",
    "df.sale_date = pd.to_datetime(df.sale_date, format='%a, %d %b %Y')\n",
    "df.sale_date.head()"
   ]
  },
  {
   "cell_type": "markdown",
   "id": "00f46028",
   "metadata": {},
   "source": [
    "#### 2. Plot the distribution of sale_amount and item_price."
   ]
  },
  {
   "cell_type": "code",
   "execution_count": 13,
   "id": "22f301f1",
   "metadata": {},
   "outputs": [
    {
     "data": {
      "image/png": "[encoded data removed]",
      "text/plain": [
       "<Figure size 720x432 with 1 Axes>"
      ]
     },
     "metadata": {},
     "output_type": "display_data"
    }
   ],
   "source": [
    "#visualise sale amount\n",
    "df.sale_amount.hist()\n",
    "plt.title(\"distrubution of sale amount\")\n",
    "plt.xlabel(\"sale amount\")\n",
    "plt.ylabel(\"count\")\n",
    "plt.show()"
   ]
  },
  {
   "cell_type": "code",
   "execution_count": 14,
   "id": "981b8ae9",
   "metadata": {},
   "outputs": [
    {
     "data": {
      "image/png": "[encoded data removed]",
      "text/plain": [
       "<Figure size 720x432 with 1 Axes>"
      ]
     },
     "metadata": {},
     "output_type": "display_data"
    }
   ],
   "source": [
    "#visualise item price\n",
    "df.item_price.hist()\n",
    "plt.title(\"distrubution of item price\")\n",
    "plt.xlabel(\"item price\")\n",
    "plt.ylabel(\"count\")\n",
    "plt.show()"
   ]
  },
  {
   "cell_type": "markdown",
   "id": "6f52d329",
   "metadata": {},
   "source": [
    "#### 3.Set the index to be the datetime variable.\n"
   ]
  },
  {
   "cell_type": "code",
   "execution_count": 15,
   "id": "4ac3c012",
   "metadata": {},
   "outputs": [],
   "source": [
    "#set date to index and sort\n",
    "df = df.set_index('sale_date').sort_index()"
   ]
  },
  {
   "cell_type": "code",
   "execution_count": 16,
   "id": "ff942db5",
   "metadata": {},
   "outputs": [
    {
     "data": {
      "text/html": [
       "<div>\n",
       "<style scoped>\n",
       "    .dataframe tbody tr th:only-of-type {\n",
       "        vertical-align: middle;\n",
       "    }\n",
       "\n",
       "    .dataframe tbody tr th {\n",
       "        vertical-align: top;\n",
       "    }\n",
       "\n",
       "    .dataframe thead th {\n",
       "        text-align: right;\n",
       "    }\n",
       "</style>\n",
       "<table border=\"1\" class=\"dataframe\">\n",
       "  <thead>\n",
       "    <tr style=\"text-align: right;\">\n",
       "      <th></th>\n",
       "      <th>item_id</th>\n",
       "      <th>sale_amount</th>\n",
       "      <th>sale_id</th>\n",
       "      <th>store_id</th>\n",
       "      <th>item_brand</th>\n",
       "      <th>item_name</th>\n",
       "      <th>item_price</th>\n",
       "      <th>item_upc12</th>\n",
       "      <th>item_upc14</th>\n",
       "      <th>store_address</th>\n",
       "      <th>store_city</th>\n",
       "      <th>store_state</th>\n",
       "      <th>store_zipcode</th>\n",
       "    </tr>\n",
       "    <tr>\n",
       "      <th>sale_date</th>\n",
       "      <th></th>\n",
       "      <th></th>\n",
       "      <th></th>\n",
       "      <th></th>\n",
       "      <th></th>\n",
       "      <th></th>\n",
       "      <th></th>\n",
       "      <th></th>\n",
       "      <th></th>\n",
       "      <th></th>\n",
       "      <th></th>\n",
       "      <th></th>\n",
       "      <th></th>\n",
       "    </tr>\n",
       "  </thead>\n",
       "  <tbody>\n",
       "    <tr>\n",
       "      <th>2013-01-01</th>\n",
       "      <td>1</td>\n",
       "      <td>13.0</td>\n",
       "      <td>1</td>\n",
       "      <td>1</td>\n",
       "      <td>Riceland</td>\n",
       "      <td>Riceland American Jazmine Rice</td>\n",
       "      <td>0.84</td>\n",
       "      <td>35200264013</td>\n",
       "      <td>35200264013</td>\n",
       "      <td>12125 Alamo Ranch Pkwy</td>\n",
       "      <td>San Antonio</td>\n",
       "      <td>TX</td>\n",
       "      <td>78253</td>\n",
       "    </tr>\n",
       "    <tr>\n",
       "      <th>2013-01-01</th>\n",
       "      <td>12</td>\n",
       "      <td>26.0</td>\n",
       "      <td>211817</td>\n",
       "      <td>7</td>\n",
       "      <td>Mueller</td>\n",
       "      <td>Mueller Sport Care Basic Support Level Medium ...</td>\n",
       "      <td>8.40</td>\n",
       "      <td>74676640211</td>\n",
       "      <td>74676640211</td>\n",
       "      <td>12018 Perrin Beitel Rd</td>\n",
       "      <td>San Antonio</td>\n",
       "      <td>TX</td>\n",
       "      <td>78217</td>\n",
       "    </tr>\n",
       "    <tr>\n",
       "      <th>2013-01-01</th>\n",
       "      <td>46</td>\n",
       "      <td>27.0</td>\n",
       "      <td>832657</td>\n",
       "      <td>7</td>\n",
       "      <td>Mama Marys</td>\n",
       "      <td>Pizza Sauce</td>\n",
       "      <td>4.65</td>\n",
       "      <td>35457770664</td>\n",
       "      <td>35457770664</td>\n",
       "      <td>12018 Perrin Beitel Rd</td>\n",
       "      <td>San Antonio</td>\n",
       "      <td>TX</td>\n",
       "      <td>78217</td>\n",
       "    </tr>\n",
       "  </tbody>\n",
       "</table>\n",
       "</div>"
      ],
      "text/plain": [
       "            item_id  sale_amount  sale_id  store_id  item_brand  \\\n",
       "sale_date                                                         \n",
       "2013-01-01        1         13.0        1         1    Riceland   \n",
       "2013-01-01       12         26.0   211817         7     Mueller   \n",
       "2013-01-01       46         27.0   832657         7  Mama Marys   \n",
       "\n",
       "                                                    item_name  item_price  \\\n",
       "sale_date                                                                   \n",
       "2013-01-01                     Riceland American Jazmine Rice        0.84   \n",
       "2013-01-01  Mueller Sport Care Basic Support Level Medium ...        8.40   \n",
       "2013-01-01                                        Pizza Sauce        4.65   \n",
       "\n",
       "             item_upc12   item_upc14           store_address   store_city  \\\n",
       "sale_date                                                                   \n",
       "2013-01-01  35200264013  35200264013  12125 Alamo Ranch Pkwy  San Antonio   \n",
       "2013-01-01  74676640211  74676640211  12018 Perrin Beitel Rd  San Antonio   \n",
       "2013-01-01  35457770664  35457770664  12018 Perrin Beitel Rd  San Antonio   \n",
       "\n",
       "           store_state  store_zipcode  \n",
       "sale_date                              \n",
       "2013-01-01          TX          78253  \n",
       "2013-01-01          TX          78217  \n",
       "2013-01-01          TX          78217  "
      ]
     },
     "execution_count": 16,
     "metadata": {},
     "output_type": "execute_result"
    }
   ],
   "source": [
    "df.head(3)"
   ]
  },
  {
   "cell_type": "markdown",
   "id": "4cbab66e",
   "metadata": {},
   "source": [
    "#### 4. Add a 'month' and 'day of week' column to your dataframe.\n"
   ]
  },
  {
   "cell_type": "code",
   "execution_count": 17,
   "id": "fee9c85c",
   "metadata": {},
   "outputs": [],
   "source": [
    "#create month and day of week column\n",
    "df[\"month\"] = df.index.month_name()\n",
    "df[\"day_of_week\"] = df.index.day_name()"
   ]
  },
  {
   "cell_type": "code",
   "execution_count": 18,
   "id": "645e272e",
   "metadata": {},
   "outputs": [
    {
     "data": {
      "text/html": [
       "<div>\n",
       "<style scoped>\n",
       "    .dataframe tbody tr th:only-of-type {\n",
       "        vertical-align: middle;\n",
       "    }\n",
       "\n",
       "    .dataframe tbody tr th {\n",
       "        vertical-align: top;\n",
       "    }\n",
       "\n",
       "    .dataframe thead th {\n",
       "        text-align: right;\n",
       "    }\n",
       "</style>\n",
       "<table border=\"1\" class=\"dataframe\">\n",
       "  <thead>\n",
       "    <tr style=\"text-align: right;\">\n",
       "      <th></th>\n",
       "      <th>item_id</th>\n",
       "      <th>sale_amount</th>\n",
       "      <th>sale_id</th>\n",
       "      <th>store_id</th>\n",
       "      <th>item_brand</th>\n",
       "      <th>item_name</th>\n",
       "      <th>item_price</th>\n",
       "      <th>item_upc12</th>\n",
       "      <th>item_upc14</th>\n",
       "      <th>store_address</th>\n",
       "      <th>store_city</th>\n",
       "      <th>store_state</th>\n",
       "      <th>store_zipcode</th>\n",
       "      <th>month</th>\n",
       "      <th>day_of_week</th>\n",
       "    </tr>\n",
       "    <tr>\n",
       "      <th>sale_date</th>\n",
       "      <th></th>\n",
       "      <th></th>\n",
       "      <th></th>\n",
       "      <th></th>\n",
       "      <th></th>\n",
       "      <th></th>\n",
       "      <th></th>\n",
       "      <th></th>\n",
       "      <th></th>\n",
       "      <th></th>\n",
       "      <th></th>\n",
       "      <th></th>\n",
       "      <th></th>\n",
       "      <th></th>\n",
       "      <th></th>\n",
       "    </tr>\n",
       "  </thead>\n",
       "  <tbody>\n",
       "    <tr>\n",
       "      <th>2013-01-01</th>\n",
       "      <td>1</td>\n",
       "      <td>13.0</td>\n",
       "      <td>1</td>\n",
       "      <td>1</td>\n",
       "      <td>Riceland</td>\n",
       "      <td>Riceland American Jazmine Rice</td>\n",
       "      <td>0.84</td>\n",
       "      <td>35200264013</td>\n",
       "      <td>35200264013</td>\n",
       "      <td>12125 Alamo Ranch Pkwy</td>\n",
       "      <td>San Antonio</td>\n",
       "      <td>TX</td>\n",
       "      <td>78253</td>\n",
       "      <td>January</td>\n",
       "      <td>Tuesday</td>\n",
       "    </tr>\n",
       "  </tbody>\n",
       "</table>\n",
       "</div>"
      ],
      "text/plain": [
       "            item_id  sale_amount  sale_id  store_id item_brand  \\\n",
       "sale_date                                                        \n",
       "2013-01-01        1         13.0        1         1   Riceland   \n",
       "\n",
       "                                 item_name  item_price   item_upc12  \\\n",
       "sale_date                                                             \n",
       "2013-01-01  Riceland American Jazmine Rice        0.84  35200264013   \n",
       "\n",
       "             item_upc14           store_address   store_city store_state  \\\n",
       "sale_date                                                                  \n",
       "2013-01-01  35200264013  12125 Alamo Ranch Pkwy  San Antonio          TX   \n",
       "\n",
       "            store_zipcode    month day_of_week  \n",
       "sale_date                                       \n",
       "2013-01-01          78253  January     Tuesday  "
      ]
     },
     "execution_count": 18,
     "metadata": {},
     "output_type": "execute_result"
    }
   ],
   "source": [
    "df.head(1)"
   ]
  },
  {
   "cell_type": "markdown",
   "id": "25710108",
   "metadata": {},
   "source": [
    "#### 5. Add a column to your dataframe, sales_total, which is a derived from sale_amount (total items) and item_price."
   ]
  },
  {
   "cell_type": "code",
   "execution_count": 20,
   "id": "82cc7813",
   "metadata": {},
   "outputs": [],
   "source": [
    "#create new column sales total that is product of sale amount and unit price\n",
    "df[\"sales_total\"] = df.sale_amount * df.item_price"
   ]
  },
  {
   "cell_type": "code",
   "execution_count": 21,
   "id": "fdb82f5f",
   "metadata": {},
   "outputs": [
    {
     "data": {
      "text/html": [
       "<div>\n",
       "<style scoped>\n",
       "    .dataframe tbody tr th:only-of-type {\n",
       "        vertical-align: middle;\n",
       "    }\n",
       "\n",
       "    .dataframe tbody tr th {\n",
       "        vertical-align: top;\n",
       "    }\n",
       "\n",
       "    .dataframe thead th {\n",
       "        text-align: right;\n",
       "    }\n",
       "</style>\n",
       "<table border=\"1\" class=\"dataframe\">\n",
       "  <thead>\n",
       "    <tr style=\"text-align: right;\">\n",
       "      <th></th>\n",
       "      <th>item_id</th>\n",
       "      <th>sale_amount</th>\n",
       "      <th>sale_id</th>\n",
       "      <th>store_id</th>\n",
       "      <th>item_brand</th>\n",
       "      <th>item_name</th>\n",
       "      <th>item_price</th>\n",
       "      <th>item_upc12</th>\n",
       "      <th>item_upc14</th>\n",
       "      <th>store_address</th>\n",
       "      <th>store_city</th>\n",
       "      <th>store_state</th>\n",
       "      <th>store_zipcode</th>\n",
       "      <th>month</th>\n",
       "      <th>day_of_week</th>\n",
       "      <th>sales_total</th>\n",
       "    </tr>\n",
       "    <tr>\n",
       "      <th>sale_date</th>\n",
       "      <th></th>\n",
       "      <th></th>\n",
       "      <th></th>\n",
       "      <th></th>\n",
       "      <th></th>\n",
       "      <th></th>\n",
       "      <th></th>\n",
       "      <th></th>\n",
       "      <th></th>\n",
       "      <th></th>\n",
       "      <th></th>\n",
       "      <th></th>\n",
       "      <th></th>\n",
       "      <th></th>\n",
       "      <th></th>\n",
       "      <th></th>\n",
       "    </tr>\n",
       "  </thead>\n",
       "  <tbody>\n",
       "    <tr>\n",
       "      <th>2013-01-01</th>\n",
       "      <td>1</td>\n",
       "      <td>13.0</td>\n",
       "      <td>1</td>\n",
       "      <td>1</td>\n",
       "      <td>Riceland</td>\n",
       "      <td>Riceland American Jazmine Rice</td>\n",
       "      <td>0.84</td>\n",
       "      <td>35200264013</td>\n",
       "      <td>35200264013</td>\n",
       "      <td>12125 Alamo Ranch Pkwy</td>\n",
       "      <td>San Antonio</td>\n",
       "      <td>TX</td>\n",
       "      <td>78253</td>\n",
       "      <td>January</td>\n",
       "      <td>Tuesday</td>\n",
       "      <td>10.92</td>\n",
       "    </tr>\n",
       "  </tbody>\n",
       "</table>\n",
       "</div>"
      ],
      "text/plain": [
       "            item_id  sale_amount  sale_id  store_id item_brand  \\\n",
       "sale_date                                                        \n",
       "2013-01-01        1         13.0        1         1   Riceland   \n",
       "\n",
       "                                 item_name  item_price   item_upc12  \\\n",
       "sale_date                                                             \n",
       "2013-01-01  Riceland American Jazmine Rice        0.84  35200264013   \n",
       "\n",
       "             item_upc14           store_address   store_city store_state  \\\n",
       "sale_date                                                                  \n",
       "2013-01-01  35200264013  12125 Alamo Ranch Pkwy  San Antonio          TX   \n",
       "\n",
       "            store_zipcode    month day_of_week  sales_total  \n",
       "sale_date                                                    \n",
       "2013-01-01          78253  January     Tuesday        10.92  "
      ]
     },
     "execution_count": 21,
     "metadata": {},
     "output_type": "execute_result"
    }
   ],
   "source": [
    "df.head(1)"
   ]
  },
  {
   "cell_type": "markdown",
   "id": "15c33cfb",
   "metadata": {},
   "source": [
    "#### 6. Add a column to your dataframe, sales_total, which is a derived from sale_amount (total items) and item_price."
   ]
  },
  {
   "cell_type": "code",
   "execution_count": null,
   "id": "f949df41",
   "metadata": {},
   "outputs": [],
   "source": [
    "def store_items():\n",
    "    #pull. data locally\n",
    "    df = pd.read_csv(\"all_combined.csv\", index_col= 0)\n",
    "    # we can get ride of GMT time as it is all same\n",
    "    df.sale_date = df.sale_date.str.replace(\"00:00:00 GMT\",\"\")\n",
    "    df.sale_date = df.sale_date.str.strip()\n",
    "    #now change it into datetime format\n",
    "    df.sale_date = pd.to_datetime(df.sale_date, format='%a, %d %b %Y')\n",
    "    #set date to index and sort\n",
    "    df = df.set_index('sale_date').sort_index()\n",
    "    #create month and day of week column\n",
    "    df[\"month\"] = df.index.month_name()\n",
    "    df[\"day_of_week\"] = df.index.day_name()\n",
    "    \n",
    "    return df"
   ]
  },
  {
   "cell_type": "code",
   "execution_count": 4,
   "id": "2fd3db9e",
   "metadata": {},
   "outputs": [],
   "source": [
    "#check function from prepare.py \n",
    "df1 = prepare.store_items()"
   ]
  },
  {
   "cell_type": "code",
   "execution_count": 5,
   "id": "85ebcf6f",
   "metadata": {},
   "outputs": [
    {
     "data": {
      "text/html": [
       "<div>\n",
       "<style scoped>\n",
       "    .dataframe tbody tr th:only-of-type {\n",
       "        vertical-align: middle;\n",
       "    }\n",
       "\n",
       "    .dataframe tbody tr th {\n",
       "        vertical-align: top;\n",
       "    }\n",
       "\n",
       "    .dataframe thead th {\n",
       "        text-align: right;\n",
       "    }\n",
       "</style>\n",
       "<table border=\"1\" class=\"dataframe\">\n",
       "  <thead>\n",
       "    <tr style=\"text-align: right;\">\n",
       "      <th></th>\n",
       "      <th>item_id</th>\n",
       "      <th>sale_amount</th>\n",
       "      <th>sale_id</th>\n",
       "      <th>store_id</th>\n",
       "      <th>item_brand</th>\n",
       "      <th>item_name</th>\n",
       "      <th>item_price</th>\n",
       "      <th>item_upc12</th>\n",
       "      <th>item_upc14</th>\n",
       "      <th>store_address</th>\n",
       "      <th>store_city</th>\n",
       "      <th>store_state</th>\n",
       "      <th>store_zipcode</th>\n",
       "      <th>month</th>\n",
       "      <th>day_of_week</th>\n",
       "    </tr>\n",
       "    <tr>\n",
       "      <th>sale_date</th>\n",
       "      <th></th>\n",
       "      <th></th>\n",
       "      <th></th>\n",
       "      <th></th>\n",
       "      <th></th>\n",
       "      <th></th>\n",
       "      <th></th>\n",
       "      <th></th>\n",
       "      <th></th>\n",
       "      <th></th>\n",
       "      <th></th>\n",
       "      <th></th>\n",
       "      <th></th>\n",
       "      <th></th>\n",
       "      <th></th>\n",
       "    </tr>\n",
       "  </thead>\n",
       "  <tbody>\n",
       "    <tr>\n",
       "      <th>2013-01-01</th>\n",
       "      <td>1</td>\n",
       "      <td>13.0</td>\n",
       "      <td>1</td>\n",
       "      <td>1</td>\n",
       "      <td>Riceland</td>\n",
       "      <td>Riceland American Jazmine Rice</td>\n",
       "      <td>0.84</td>\n",
       "      <td>35200264013</td>\n",
       "      <td>35200264013</td>\n",
       "      <td>12125 Alamo Ranch Pkwy</td>\n",
       "      <td>San Antonio</td>\n",
       "      <td>TX</td>\n",
       "      <td>78253</td>\n",
       "      <td>January</td>\n",
       "      <td>Tuesday</td>\n",
       "    </tr>\n",
       "    <tr>\n",
       "      <th>2013-01-01</th>\n",
       "      <td>12</td>\n",
       "      <td>26.0</td>\n",
       "      <td>211817</td>\n",
       "      <td>7</td>\n",
       "      <td>Mueller</td>\n",
       "      <td>Mueller Sport Care Basic Support Level Medium ...</td>\n",
       "      <td>8.40</td>\n",
       "      <td>74676640211</td>\n",
       "      <td>74676640211</td>\n",
       "      <td>12018 Perrin Beitel Rd</td>\n",
       "      <td>San Antonio</td>\n",
       "      <td>TX</td>\n",
       "      <td>78217</td>\n",
       "      <td>January</td>\n",
       "      <td>Tuesday</td>\n",
       "    </tr>\n",
       "    <tr>\n",
       "      <th>2013-01-01</th>\n",
       "      <td>46</td>\n",
       "      <td>27.0</td>\n",
       "      <td>832657</td>\n",
       "      <td>7</td>\n",
       "      <td>Mama Marys</td>\n",
       "      <td>Pizza Sauce</td>\n",
       "      <td>4.65</td>\n",
       "      <td>35457770664</td>\n",
       "      <td>35457770664</td>\n",
       "      <td>12018 Perrin Beitel Rd</td>\n",
       "      <td>San Antonio</td>\n",
       "      <td>TX</td>\n",
       "      <td>78217</td>\n",
       "      <td>January</td>\n",
       "      <td>Tuesday</td>\n",
       "    </tr>\n",
       "    <tr>\n",
       "      <th>2013-01-01</th>\n",
       "      <td>12</td>\n",
       "      <td>54.0</td>\n",
       "      <td>213643</td>\n",
       "      <td>8</td>\n",
       "      <td>Mueller</td>\n",
       "      <td>Mueller Sport Care Basic Support Level Medium ...</td>\n",
       "      <td>8.40</td>\n",
       "      <td>74676640211</td>\n",
       "      <td>74676640211</td>\n",
       "      <td>15000 San Pedro Ave</td>\n",
       "      <td>San Antonio</td>\n",
       "      <td>TX</td>\n",
       "      <td>78232</td>\n",
       "      <td>January</td>\n",
       "      <td>Tuesday</td>\n",
       "    </tr>\n",
       "    <tr>\n",
       "      <th>2013-01-01</th>\n",
       "      <td>12</td>\n",
       "      <td>35.0</td>\n",
       "      <td>215469</td>\n",
       "      <td>9</td>\n",
       "      <td>Mueller</td>\n",
       "      <td>Mueller Sport Care Basic Support Level Medium ...</td>\n",
       "      <td>8.40</td>\n",
       "      <td>74676640211</td>\n",
       "      <td>74676640211</td>\n",
       "      <td>735 SW Military Dr</td>\n",
       "      <td>San Antonio</td>\n",
       "      <td>TX</td>\n",
       "      <td>78221</td>\n",
       "      <td>January</td>\n",
       "      <td>Tuesday</td>\n",
       "    </tr>\n",
       "  </tbody>\n",
       "</table>\n",
       "</div>"
      ],
      "text/plain": [
       "            item_id  sale_amount  sale_id  store_id  item_brand  \\\n",
       "sale_date                                                         \n",
       "2013-01-01        1         13.0        1         1    Riceland   \n",
       "2013-01-01       12         26.0   211817         7     Mueller   \n",
       "2013-01-01       46         27.0   832657         7  Mama Marys   \n",
       "2013-01-01       12         54.0   213643         8     Mueller   \n",
       "2013-01-01       12         35.0   215469         9     Mueller   \n",
       "\n",
       "                                                    item_name  item_price  \\\n",
       "sale_date                                                                   \n",
       "2013-01-01                     Riceland American Jazmine Rice        0.84   \n",
       "2013-01-01  Mueller Sport Care Basic Support Level Medium ...        8.40   \n",
       "2013-01-01                                        Pizza Sauce        4.65   \n",
       "2013-01-01  Mueller Sport Care Basic Support Level Medium ...        8.40   \n",
       "2013-01-01  Mueller Sport Care Basic Support Level Medium ...        8.40   \n",
       "\n",
       "             item_upc12   item_upc14           store_address   store_city  \\\n",
       "sale_date                                                                   \n",
       "2013-01-01  35200264013  35200264013  12125 Alamo Ranch Pkwy  San Antonio   \n",
       "2013-01-01  74676640211  74676640211  12018 Perrin Beitel Rd  San Antonio   \n",
       "2013-01-01  35457770664  35457770664  12018 Perrin Beitel Rd  San Antonio   \n",
       "2013-01-01  74676640211  74676640211     15000 San Pedro Ave  San Antonio   \n",
       "2013-01-01  74676640211  74676640211      735 SW Military Dr  San Antonio   \n",
       "\n",
       "           store_state  store_zipcode    month day_of_week  \n",
       "sale_date                                                   \n",
       "2013-01-01          TX          78253  January     Tuesday  \n",
       "2013-01-01          TX          78217  January     Tuesday  \n",
       "2013-01-01          TX          78217  January     Tuesday  \n",
       "2013-01-01          TX          78232  January     Tuesday  \n",
       "2013-01-01          TX          78221  January     Tuesday  "
      ]
     },
     "execution_count": 5,
     "metadata": {},
     "output_type": "execute_result"
    }
   ],
   "source": [
    "df1.head()"
   ]
  },
  {
   "cell_type": "markdown",
   "id": "25fdf131",
   "metadata": {},
   "source": [
    "#### Using the OPS data acquired in the Acquire exercises opsd_germany_daily.csv, complete the following:\n",
    "\n"
   ]
  },
  {
   "cell_type": "code",
   "execution_count": 7,
   "id": "0114f602",
   "metadata": {},
   "outputs": [],
   "source": [
    "#pull data from acquire\n",
    "df = acquire.get_opsd_data()"
   ]
  },
  {
   "cell_type": "code",
   "execution_count": 8,
   "id": "f72e34be",
   "metadata": {},
   "outputs": [
    {
     "data": {
      "text/html": [
       "<div>\n",
       "<style scoped>\n",
       "    .dataframe tbody tr th:only-of-type {\n",
       "        vertical-align: middle;\n",
       "    }\n",
       "\n",
       "    .dataframe tbody tr th {\n",
       "        vertical-align: top;\n",
       "    }\n",
       "\n",
       "    .dataframe thead th {\n",
       "        text-align: right;\n",
       "    }\n",
       "</style>\n",
       "<table border=\"1\" class=\"dataframe\">\n",
       "  <thead>\n",
       "    <tr style=\"text-align: right;\">\n",
       "      <th></th>\n",
       "      <th>Date</th>\n",
       "      <th>Consumption</th>\n",
       "      <th>Wind</th>\n",
       "      <th>Solar</th>\n",
       "      <th>Wind+Solar</th>\n",
       "    </tr>\n",
       "  </thead>\n",
       "  <tbody>\n",
       "    <tr>\n",
       "      <th>0</th>\n",
       "      <td>2006-01-01</td>\n",
       "      <td>1069.184</td>\n",
       "      <td>NaN</td>\n",
       "      <td>NaN</td>\n",
       "      <td>NaN</td>\n",
       "    </tr>\n",
       "    <tr>\n",
       "      <th>1</th>\n",
       "      <td>2006-01-02</td>\n",
       "      <td>1380.521</td>\n",
       "      <td>NaN</td>\n",
       "      <td>NaN</td>\n",
       "      <td>NaN</td>\n",
       "    </tr>\n",
       "    <tr>\n",
       "      <th>2</th>\n",
       "      <td>2006-01-03</td>\n",
       "      <td>1442.533</td>\n",
       "      <td>NaN</td>\n",
       "      <td>NaN</td>\n",
       "      <td>NaN</td>\n",
       "    </tr>\n",
       "    <tr>\n",
       "      <th>3</th>\n",
       "      <td>2006-01-04</td>\n",
       "      <td>1457.217</td>\n",
       "      <td>NaN</td>\n",
       "      <td>NaN</td>\n",
       "      <td>NaN</td>\n",
       "    </tr>\n",
       "    <tr>\n",
       "      <th>4</th>\n",
       "      <td>2006-01-05</td>\n",
       "      <td>1477.131</td>\n",
       "      <td>NaN</td>\n",
       "      <td>NaN</td>\n",
       "      <td>NaN</td>\n",
       "    </tr>\n",
       "  </tbody>\n",
       "</table>\n",
       "</div>"
      ],
      "text/plain": [
       "         Date  Consumption  Wind  Solar  Wind+Solar\n",
       "0  2006-01-01     1069.184   NaN    NaN         NaN\n",
       "1  2006-01-02     1380.521   NaN    NaN         NaN\n",
       "2  2006-01-03     1442.533   NaN    NaN         NaN\n",
       "3  2006-01-04     1457.217   NaN    NaN         NaN\n",
       "4  2006-01-05     1477.131   NaN    NaN         NaN"
      ]
     },
     "execution_count": 8,
     "metadata": {},
     "output_type": "execute_result"
    }
   ],
   "source": [
    "#check head\n",
    "df.head()"
   ]
  },
  {
   "cell_type": "code",
   "execution_count": 9,
   "id": "63266706",
   "metadata": {},
   "outputs": [
    {
     "name": "stdout",
     "output_type": "stream",
     "text": [
      "<class 'pandas.core.frame.DataFrame'>\n",
      "RangeIndex: 4383 entries, 0 to 4382\n",
      "Data columns (total 5 columns):\n",
      " #   Column       Non-Null Count  Dtype  \n",
      "---  ------       --------------  -----  \n",
      " 0   Date         4383 non-null   object \n",
      " 1   Consumption  4383 non-null   float64\n",
      " 2   Wind         2920 non-null   float64\n",
      " 3   Solar        2188 non-null   float64\n",
      " 4   Wind+Solar   2187 non-null   float64\n",
      "dtypes: float64(4), object(1)\n",
      "memory usage: 171.3+ KB\n"
     ]
    }
   ],
   "source": [
    "df.info()"
   ]
  },
  {
   "cell_type": "code",
   "execution_count": 10,
   "id": "db943adf",
   "metadata": {},
   "outputs": [
    {
     "data": {
      "text/plain": [
       "Date              0\n",
       "Consumption       0\n",
       "Wind           1463\n",
       "Solar          2195\n",
       "Wind+Solar     2196\n",
       "dtype: int64"
      ]
     },
     "execution_count": 10,
     "metadata": {},
     "output_type": "execute_result"
    }
   ],
   "source": [
    "df.isna().sum()"
   ]
  },
  {
   "cell_type": "markdown",
   "id": "a9ebe97a",
   "metadata": {},
   "source": [
    "#### 1. Convert date column to datetime format.\n"
   ]
  },
  {
   "cell_type": "code",
   "execution_count": 12,
   "id": "6becff1d",
   "metadata": {},
   "outputs": [],
   "source": [
    "#convert object date into datetime64\n",
    "df.Date = pd.to_datetime(df.Date)"
   ]
  },
  {
   "cell_type": "code",
   "execution_count": 15,
   "id": "cd850481",
   "metadata": {},
   "outputs": [
    {
     "data": {
      "text/plain": [
       "0   2006-01-01\n",
       "Name: Date, dtype: datetime64[ns]"
      ]
     },
     "execution_count": 15,
     "metadata": {},
     "output_type": "execute_result"
    }
   ],
   "source": [
    "#check the conversion\n",
    "df.Date.head(1)"
   ]
  },
  {
   "cell_type": "markdown",
   "id": "f1714319",
   "metadata": {},
   "source": [
    "#### 2. Plot the distribution of each of your variables.\n"
   ]
  },
  {
   "cell_type": "code",
   "execution_count": 25,
   "id": "0e367d72",
   "metadata": {},
   "outputs": [
    {
     "data": {
      "image/png": "[encoded data removed]",
      "text/plain": [
       "<Figure size 720x432 with 1 Axes>"
      ]
     },
     "metadata": {},
     "output_type": "display_data"
    },
    {
     "data": {
      "image/png": "[encoded data removed]",
      "text/plain": [
       "<Figure size 720x432 with 1 Axes>"
      ]
     },
     "metadata": {},
     "output_type": "display_data"
    },
    {
     "data": {
      "image/png": "[encoded data removed]",
      "text/plain": [
       "<Figure size 720x432 with 1 Axes>"
      ]
     },
     "metadata": {},
     "output_type": "display_data"
    },
    {
     "data": {
      "image/png": "[encoded data removed]",
      "text/plain": [
       "<Figure size 720x432 with 1 Axes>"
      ]
     },
     "metadata": {},
     "output_type": "display_data"
    },
    {
     "data": {
      "image/png": "[encoded data removed]",
      "text/plain": [
       "<Figure size 720x432 with 1 Axes>"
      ]
     },
     "metadata": {},
     "output_type": "display_data"
    }
   ],
   "source": [
    "for cols in df.columns:\n",
    "    df[cols].hist()\n",
    "    plt.title(\"distribution of \" + cols)\n",
    "    plt.show()"
   ]
  },
  {
   "cell_type": "markdown",
   "id": "b98f8ae3",
   "metadata": {},
   "source": [
    "#### 3. Set the index to be the datetime variable.\n"
   ]
  },
  {
   "cell_type": "code",
   "execution_count": 26,
   "id": "0d9baed2",
   "metadata": {},
   "outputs": [],
   "source": [
    "df = df.set_index(\"Date\").sort_index()"
   ]
  },
  {
   "cell_type": "code",
   "execution_count": 27,
   "id": "ecc465a1",
   "metadata": {},
   "outputs": [
    {
     "data": {
      "text/html": [
       "<div>\n",
       "<style scoped>\n",
       "    .dataframe tbody tr th:only-of-type {\n",
       "        vertical-align: middle;\n",
       "    }\n",
       "\n",
       "    .dataframe tbody tr th {\n",
       "        vertical-align: top;\n",
       "    }\n",
       "\n",
       "    .dataframe thead th {\n",
       "        text-align: right;\n",
       "    }\n",
       "</style>\n",
       "<table border=\"1\" class=\"dataframe\">\n",
       "  <thead>\n",
       "    <tr style=\"text-align: right;\">\n",
       "      <th></th>\n",
       "      <th>Consumption</th>\n",
       "      <th>Wind</th>\n",
       "      <th>Solar</th>\n",
       "      <th>Wind+Solar</th>\n",
       "    </tr>\n",
       "    <tr>\n",
       "      <th>Date</th>\n",
       "      <th></th>\n",
       "      <th></th>\n",
       "      <th></th>\n",
       "      <th></th>\n",
       "    </tr>\n",
       "  </thead>\n",
       "  <tbody>\n",
       "    <tr>\n",
       "      <th>2006-01-01</th>\n",
       "      <td>1069.184</td>\n",
       "      <td>NaN</td>\n",
       "      <td>NaN</td>\n",
       "      <td>NaN</td>\n",
       "    </tr>\n",
       "  </tbody>\n",
       "</table>\n",
       "</div>"
      ],
      "text/plain": [
       "            Consumption  Wind  Solar  Wind+Solar\n",
       "Date                                            \n",
       "2006-01-01     1069.184   NaN    NaN         NaN"
      ]
     },
     "execution_count": 27,
     "metadata": {},
     "output_type": "execute_result"
    }
   ],
   "source": [
    "df.head(1)"
   ]
  },
  {
   "cell_type": "markdown",
   "id": "f12179d2",
   "metadata": {},
   "source": [
    "#### 4. Add a month and a year column to your dataframe.\n"
   ]
  },
  {
   "cell_type": "code",
   "execution_count": 28,
   "id": "9be6590a",
   "metadata": {},
   "outputs": [],
   "source": [
    "df[\"month\"] = df.index.month_name()\n",
    "df[\"year\"] = df.index.year"
   ]
  },
  {
   "cell_type": "code",
   "execution_count": 30,
   "id": "a55adfed",
   "metadata": {},
   "outputs": [
    {
     "data": {
      "text/html": [
       "<div>\n",
       "<style scoped>\n",
       "    .dataframe tbody tr th:only-of-type {\n",
       "        vertical-align: middle;\n",
       "    }\n",
       "\n",
       "    .dataframe tbody tr th {\n",
       "        vertical-align: top;\n",
       "    }\n",
       "\n",
       "    .dataframe thead th {\n",
       "        text-align: right;\n",
       "    }\n",
       "</style>\n",
       "<table border=\"1\" class=\"dataframe\">\n",
       "  <thead>\n",
       "    <tr style=\"text-align: right;\">\n",
       "      <th></th>\n",
       "      <th>Consumption</th>\n",
       "      <th>Wind</th>\n",
       "      <th>Solar</th>\n",
       "      <th>Wind+Solar</th>\n",
       "      <th>month</th>\n",
       "      <th>year</th>\n",
       "    </tr>\n",
       "    <tr>\n",
       "      <th>Date</th>\n",
       "      <th></th>\n",
       "      <th></th>\n",
       "      <th></th>\n",
       "      <th></th>\n",
       "      <th></th>\n",
       "      <th></th>\n",
       "    </tr>\n",
       "  </thead>\n",
       "  <tbody>\n",
       "    <tr>\n",
       "      <th>2006-01-01</th>\n",
       "      <td>1069.184</td>\n",
       "      <td>NaN</td>\n",
       "      <td>NaN</td>\n",
       "      <td>NaN</td>\n",
       "      <td>January</td>\n",
       "      <td>2006</td>\n",
       "    </tr>\n",
       "  </tbody>\n",
       "</table>\n",
       "</div>"
      ],
      "text/plain": [
       "            Consumption  Wind  Solar  Wind+Solar    month  year\n",
       "Date                                                           \n",
       "2006-01-01     1069.184   NaN    NaN         NaN  January  2006"
      ]
     },
     "execution_count": 30,
     "metadata": {},
     "output_type": "execute_result"
    }
   ],
   "source": [
    "df.head(1)"
   ]
  },
  {
   "cell_type": "markdown",
   "id": "52c63f15",
   "metadata": {},
   "source": [
    "#### 5. Fill any missing values.\n"
   ]
  },
  {
   "cell_type": "code",
   "execution_count": 31,
   "id": "1202b87c",
   "metadata": {},
   "outputs": [
    {
     "data": {
      "text/plain": [
       "NaN        1463\n",
       "31.469        2\n",
       "96.107        2\n",
       "229.770       2\n",
       "34.973        2\n",
       "           ... \n",
       "35.317        1\n",
       "19.479        1\n",
       "33.386        1\n",
       "64.503        1\n",
       "721.176       1\n",
       "Name: Wind, Length: 2914, dtype: int64"
      ]
     },
     "execution_count": 31,
     "metadata": {},
     "output_type": "execute_result"
    }
   ],
   "source": [
    "df.Wind.value_counts(dropna = False)"
   ]
  },
  {
   "cell_type": "code",
   "execution_count": 51,
   "id": "d09a47c7",
   "metadata": {},
   "outputs": [
    {
     "data": {
      "image/png": "[encoded data removed]",
      "text/plain": [
       "<Figure size 720x432 with 1 Axes>"
      ]
     },
     "metadata": {},
     "output_type": "display_data"
    }
   ],
   "source": [
    "#plot wind pattern\n",
    "df.Wind.plot(title = \"wind with time\")\n",
    "plt.show()"
   ]
  },
  {
   "cell_type": "markdown",
   "id": "cecf4305",
   "metadata": {},
   "source": [
    "there is no data from 2006 to 2010 so we will add 0 for null\n"
   ]
  },
  {
   "cell_type": "code",
   "execution_count": 52,
   "id": "78a6a1dd",
   "metadata": {},
   "outputs": [],
   "source": [
    "#Fill null with 0\n",
    "df.Wind = df.Wind.fillna(0)"
   ]
  },
  {
   "cell_type": "code",
   "execution_count": 56,
   "id": "8388f0db",
   "metadata": {},
   "outputs": [
    {
     "data": {
      "image/png": "[encoded data removed]",
      "text/plain": [
       "<Figure size 720x432 with 1 Axes>"
      ]
     },
     "metadata": {},
     "output_type": "display_data"
    }
   ],
   "source": [
    "#null values for solar\n",
    "df.Solar.plot(title = \"solar\")\n",
    "plt.show()"
   ]
  },
  {
   "cell_type": "markdown",
   "id": "45d3e17f",
   "metadata": {},
   "source": [
    "there is no data from 2006 to 2012, we will fill it with 0"
   ]
  },
  {
   "cell_type": "code",
   "execution_count": 57,
   "id": "bc9dc331",
   "metadata": {},
   "outputs": [],
   "source": [
    "#fill null with 0\n",
    "df.Solar= df.Solar.fillna(0)"
   ]
  },
  {
   "cell_type": "code",
   "execution_count": 59,
   "id": "158b5692",
   "metadata": {},
   "outputs": [],
   "source": [
    "#null values at wind+solar"
   ]
  },
  {
   "cell_type": "code",
   "execution_count": 62,
   "id": "8b98fbea",
   "metadata": {},
   "outputs": [
    {
     "data": {
      "image/png": "[encoded data removed]",
      "text/plain": [
       "<Figure size 720x432 with 1 Axes>"
      ]
     },
     "metadata": {},
     "output_type": "display_data"
    }
   ],
   "source": [
    "#visualise\n",
    "df[\"Wind+Solar\"].plot(label =\"wind and solar\")\n",
    "plt.legend()\n",
    "plt.show()"
   ]
  },
  {
   "cell_type": "code",
   "execution_count": null,
   "id": "6e4104ab",
   "metadata": {},
   "outputs": [],
   "source": [
    "#we have no data from 2006 from 2012m we will fill it with 0"
   ]
  },
  {
   "cell_type": "code",
   "execution_count": 63,
   "id": "0d0c19d0",
   "metadata": {},
   "outputs": [],
   "source": [
    "#fill null\n",
    "df[\"Wind+Solar\"] = df[\"Wind+Solar\"].fillna(0)"
   ]
  },
  {
   "cell_type": "markdown",
   "id": "0cd9f7ae",
   "metadata": {},
   "source": [
    "#### 6 Make sure all the work that you have done above is reproducible. That is, you should put the code above into separate functions and be able to re-run the functions and get the same results."
   ]
  },
  {
   "cell_type": "code",
   "execution_count": 4,
   "id": "328029af",
   "metadata": {},
   "outputs": [],
   "source": [
    "def opsd_data():\n",
    "    #pull data from acquire\n",
    "    df = acquire.get_opsd_data()\n",
    "    #convert object date into datetime64\n",
    "    df.Date = pd.to_datetime(df.Date)\n",
    "    df = df.set_index(\"Date\").sort_index()\n",
    "    df[\"month\"] = df.index.month_name()\n",
    "    df[\"year\"] = df.index.year\n",
    "    df.Wind = df.Wind.fillna(0)\n",
    "    df.Solar= df.Solar.fillna(0)\n",
    "    df[\"Wind+Solar\"] = df[\"Wind+Solar\"].fillna(0)\n",
    "    \n",
    "    return df"
   ]
  },
  {
   "cell_type": "code",
   "execution_count": 5,
   "id": "66cdd81a",
   "metadata": {},
   "outputs": [],
   "source": [
    "#check the function\n",
    "df1 = opsd_data()"
   ]
  },
  {
   "cell_type": "code",
   "execution_count": 6,
   "id": "022bc946",
   "metadata": {},
   "outputs": [
    {
     "data": {
      "text/html": [
       "<div>\n",
       "<style scoped>\n",
       "    .dataframe tbody tr th:only-of-type {\n",
       "        vertical-align: middle;\n",
       "    }\n",
       "\n",
       "    .dataframe tbody tr th {\n",
       "        vertical-align: top;\n",
       "    }\n",
       "\n",
       "    .dataframe thead th {\n",
       "        text-align: right;\n",
       "    }\n",
       "</style>\n",
       "<table border=\"1\" class=\"dataframe\">\n",
       "  <thead>\n",
       "    <tr style=\"text-align: right;\">\n",
       "      <th></th>\n",
       "      <th>Consumption</th>\n",
       "      <th>Wind</th>\n",
       "      <th>Solar</th>\n",
       "      <th>Wind+Solar</th>\n",
       "      <th>month</th>\n",
       "      <th>year</th>\n",
       "    </tr>\n",
       "    <tr>\n",
       "      <th>Date</th>\n",
       "      <th></th>\n",
       "      <th></th>\n",
       "      <th></th>\n",
       "      <th></th>\n",
       "      <th></th>\n",
       "      <th></th>\n",
       "    </tr>\n",
       "  </thead>\n",
       "  <tbody>\n",
       "    <tr>\n",
       "      <th>2006-01-01</th>\n",
       "      <td>1069.184</td>\n",
       "      <td>0.0</td>\n",
       "      <td>0.0</td>\n",
       "      <td>0.0</td>\n",
       "      <td>January</td>\n",
       "      <td>2006</td>\n",
       "    </tr>\n",
       "    <tr>\n",
       "      <th>2006-01-02</th>\n",
       "      <td>1380.521</td>\n",
       "      <td>0.0</td>\n",
       "      <td>0.0</td>\n",
       "      <td>0.0</td>\n",
       "      <td>January</td>\n",
       "      <td>2006</td>\n",
       "    </tr>\n",
       "    <tr>\n",
       "      <th>2006-01-03</th>\n",
       "      <td>1442.533</td>\n",
       "      <td>0.0</td>\n",
       "      <td>0.0</td>\n",
       "      <td>0.0</td>\n",
       "      <td>January</td>\n",
       "      <td>2006</td>\n",
       "    </tr>\n",
       "    <tr>\n",
       "      <th>2006-01-04</th>\n",
       "      <td>1457.217</td>\n",
       "      <td>0.0</td>\n",
       "      <td>0.0</td>\n",
       "      <td>0.0</td>\n",
       "      <td>January</td>\n",
       "      <td>2006</td>\n",
       "    </tr>\n",
       "    <tr>\n",
       "      <th>2006-01-05</th>\n",
       "      <td>1477.131</td>\n",
       "      <td>0.0</td>\n",
       "      <td>0.0</td>\n",
       "      <td>0.0</td>\n",
       "      <td>January</td>\n",
       "      <td>2006</td>\n",
       "    </tr>\n",
       "  </tbody>\n",
       "</table>\n",
       "</div>"
      ],
      "text/plain": [
       "            Consumption  Wind  Solar  Wind+Solar    month  year\n",
       "Date                                                           \n",
       "2006-01-01     1069.184   0.0    0.0         0.0  January  2006\n",
       "2006-01-02     1380.521   0.0    0.0         0.0  January  2006\n",
       "2006-01-03     1442.533   0.0    0.0         0.0  January  2006\n",
       "2006-01-04     1457.217   0.0    0.0         0.0  January  2006\n",
       "2006-01-05     1477.131   0.0    0.0         0.0  January  2006"
      ]
     },
     "execution_count": 6,
     "metadata": {},
     "output_type": "execute_result"
    }
   ],
   "source": [
    "df1.head()"
   ]
  },
  {
   "cell_type": "code",
   "execution_count": null,
   "id": "5e296ac3",
   "metadata": {},
   "outputs": [],
   "source": []
  }
 ],
 "metadata": {
  "kernelspec": {
   "display_name": "Python 3 (ipykernel)",
   "language": "python",
   "name": "python3"
  },
  "language_info": {
   "codemirror_mode": {
    "name": "ipython",
    "version": 3
   },
   "file_extension": ".py",
   "mimetype": "text/x-python",
   "name": "python",
   "nbconvert_exporter": "python",
   "pygments_lexer": "ipython3",
   "version": "3.9.12"
  }
 },
 "nbformat": 4,
 "nbformat_minor": 5
}
